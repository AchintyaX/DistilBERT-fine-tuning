{
 "cells": [
  {
   "cell_type": "code",
   "execution_count": 1,
   "id": "3f798e5a",
   "metadata": {},
   "outputs": [],
   "source": [
    "import pandas as pd\n",
    "import numpy as np\n",
    "import nlpaug.augmenter.word as nlpaw \n",
    "from tqdm import tqdm"
   ]
  },
  {
   "cell_type": "code",
   "execution_count": null,
   "id": "1c1080f9",
   "metadata": {},
   "outputs": [],
   "source": [
    "def augment_sentence(sentence, aug, num_threads):\n",
    "    '''\n",
    "    Constructs a new sentence via text augmentation\n",
    "        \n",
    "    Input:\n",
    "        - sentence:     A string of text\n",
    "        - aug:          An augmentation object defined by the nlpaug library\n",
    "        - num_threads:  Integer controlling the number of threads to use if\n",
    "                        augmenting text via CPU\n",
    "    Output:\n",
    "        - A string of text that been augmented\n",
    "    '''\n",
    "    return aug.augment(sentence, num_threads=num_threads)\n",
    "\n",
    "def augment_text(df, aug, num_threads, num_times):\n",
    "    '''\n",
    "    Takes a pandas DataFrame and augments its text data.\n",
    "    \n",
    "    Input:\n",
    "        - df:            A pandas DataFrame containing the columns:\n",
    "                                - 'comment_text' containing strings of text to augment.\n",
    "                                - 'isToxic' binary target variable containing 0's and 1's.\n",
    "        - aug:           Augmentation object defined by the nlpaug library.\n",
    "        - num_threads:   Integer controlling number of threads to use if augmenting\n",
    "                         text via CPU\n",
    "        - num_times:     Integer representing the number of times to augment text.\n",
    "    Output:\n",
    "        - df:            Copy of the same pandas DataFrame with augmented data \n",
    "                         appended to it and with rows randomly shuffled.\n",
    "    '''\n",
    "    \n",
    "    # Get rows of data to augment\n",
    "    to_augment = df[df['isToxic'] == 1]\n",
    "    to_augmentX = to_augment['comment_text']\n",
    "    to_augmentY = np.ones(len(to_augmentX.index)*num_times, dtype=np.int8)\n",
    "    \n",
    "    # Build up dictionary containing augmented data \n",
    "    aug_dict = {'comment_text':[], 'isToxic':to_augmentX}\n",
    "    for i in tqdm(range(num_times)):\n",
    "        augX = [augment_sentence(x, aug, num_threads) for x in to_augmentX]\n",
    "        auf"
   ]
  }
 ],
 "metadata": {
  "kernelspec": {
   "display_name": "Python 3",
   "language": "python",
   "name": "python3"
  },
  "language_info": {
   "codemirror_mode": {
    "name": "ipython",
    "version": 3
   },
   "file_extension": ".py",
   "mimetype": "text/x-python",
   "name": "python",
   "nbconvert_exporter": "python",
   "pygments_lexer": "ipython3",
   "version": "3.8.6"
  }
 },
 "nbformat": 4,
 "nbformat_minor": 5
}
